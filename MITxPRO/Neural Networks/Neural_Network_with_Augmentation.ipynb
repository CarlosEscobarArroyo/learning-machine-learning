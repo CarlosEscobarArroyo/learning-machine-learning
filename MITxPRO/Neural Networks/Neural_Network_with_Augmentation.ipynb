{
 "cells": [
  {
   "cell_type": "markdown",
   "metadata": {
    "id": "SisJZgAosqLd"
   },
   "source": [
    "## Convolutional Neural Networks with Image Augmentation"
   ]
  },
  {
   "cell_type": "markdown",
   "metadata": {
    "id": "0O0aSHwNs2M8"
   },
   "source": [
    "## About the Data\n",
    "The original MNIST image dataset of handwritten digits is a popular benchmark for image-based machine learning methods but researchers have renewed efforts to update it and develop drop-in replacements that are more challenging for computer vision and optimal for real-world applications. In one recent replacement called the Fashion-MNIST dataset, researchers quoted the startling claim that \"Most pairs of MNIST digits (784 total pixels per sample) can be distinguished pretty well by just one pixel\". To encourage the community to develop more drop-in replacements, the Sign Language MNIST is presented here and follows the same .CSV format with labels and pixel values in single rows. The American Sign Language letter database of hand gestures represent a multi-class problem with 24 classes of letters (excluding J and Z which require motion).\n",
    "\n",
    "The full introduction can be seen here: https://www.kaggle.com/datamunge/sign-language-mnist/home\n",
    "\n",
    "This type of computations may be long, so it is recommended to start with timer setting so you will know how much time the script will take."
   ]
  },
  {
   "cell_type": "code",
   "execution_count": 9,
   "metadata": {
    "id": "3pvLxLmgs6lW"
   },
   "outputs": [],
   "source": [
    "import time\n",
    "from time import perf_counter as timer"
   ]
  },
  {
   "cell_type": "code",
   "execution_count": 10,
   "metadata": {
    "id": "zhOjOsqgs9w1"
   },
   "outputs": [],
   "source": [
    "import numpy as np\n",
    "import pandas as pd\n",
    "import matplotlib.pyplot as plt\n",
    "import seaborn as sns\n",
    "import os"
   ]
  },
  {
   "cell_type": "code",
   "execution_count": 11,
   "metadata": {
    "colab": {
     "base_uri": "https://localhost:8080/",
     "height": 317
    },
    "id": "zw2WX-CqtmHq",
    "outputId": "4241e269-a911-4a6c-ff15-6d9f7a1a2787"
   },
   "outputs": [
    {
     "data": {
      "text/html": [
       "<div>\n",
       "<style scoped>\n",
       "    .dataframe tbody tr th:only-of-type {\n",
       "        vertical-align: middle;\n",
       "    }\n",
       "\n",
       "    .dataframe tbody tr th {\n",
       "        vertical-align: top;\n",
       "    }\n",
       "\n",
       "    .dataframe thead th {\n",
       "        text-align: right;\n",
       "    }\n",
       "</style>\n",
       "<table border=\"1\" class=\"dataframe\">\n",
       "  <thead>\n",
       "    <tr style=\"text-align: right;\">\n",
       "      <th></th>\n",
       "      <th>label</th>\n",
       "      <th>pixel1</th>\n",
       "      <th>pixel2</th>\n",
       "      <th>pixel3</th>\n",
       "      <th>pixel4</th>\n",
       "      <th>pixel5</th>\n",
       "      <th>pixel6</th>\n",
       "      <th>pixel7</th>\n",
       "      <th>pixel8</th>\n",
       "      <th>pixel9</th>\n",
       "      <th>...</th>\n",
       "      <th>pixel775</th>\n",
       "      <th>pixel776</th>\n",
       "      <th>pixel777</th>\n",
       "      <th>pixel778</th>\n",
       "      <th>pixel779</th>\n",
       "      <th>pixel780</th>\n",
       "      <th>pixel781</th>\n",
       "      <th>pixel782</th>\n",
       "      <th>pixel783</th>\n",
       "      <th>pixel784</th>\n",
       "    </tr>\n",
       "  </thead>\n",
       "  <tbody>\n",
       "    <tr>\n",
       "      <th>0</th>\n",
       "      <td>3</td>\n",
       "      <td>107</td>\n",
       "      <td>118</td>\n",
       "      <td>127</td>\n",
       "      <td>134</td>\n",
       "      <td>139</td>\n",
       "      <td>143</td>\n",
       "      <td>146</td>\n",
       "      <td>150</td>\n",
       "      <td>153</td>\n",
       "      <td>...</td>\n",
       "      <td>207</td>\n",
       "      <td>207</td>\n",
       "      <td>207</td>\n",
       "      <td>207</td>\n",
       "      <td>206</td>\n",
       "      <td>206</td>\n",
       "      <td>206</td>\n",
       "      <td>204</td>\n",
       "      <td>203</td>\n",
       "      <td>202</td>\n",
       "    </tr>\n",
       "    <tr>\n",
       "      <th>1</th>\n",
       "      <td>6</td>\n",
       "      <td>155</td>\n",
       "      <td>157</td>\n",
       "      <td>156</td>\n",
       "      <td>156</td>\n",
       "      <td>156</td>\n",
       "      <td>157</td>\n",
       "      <td>156</td>\n",
       "      <td>158</td>\n",
       "      <td>158</td>\n",
       "      <td>...</td>\n",
       "      <td>69</td>\n",
       "      <td>149</td>\n",
       "      <td>128</td>\n",
       "      <td>87</td>\n",
       "      <td>94</td>\n",
       "      <td>163</td>\n",
       "      <td>175</td>\n",
       "      <td>103</td>\n",
       "      <td>135</td>\n",
       "      <td>149</td>\n",
       "    </tr>\n",
       "    <tr>\n",
       "      <th>2</th>\n",
       "      <td>2</td>\n",
       "      <td>187</td>\n",
       "      <td>188</td>\n",
       "      <td>188</td>\n",
       "      <td>187</td>\n",
       "      <td>187</td>\n",
       "      <td>186</td>\n",
       "      <td>187</td>\n",
       "      <td>188</td>\n",
       "      <td>187</td>\n",
       "      <td>...</td>\n",
       "      <td>202</td>\n",
       "      <td>201</td>\n",
       "      <td>200</td>\n",
       "      <td>199</td>\n",
       "      <td>198</td>\n",
       "      <td>199</td>\n",
       "      <td>198</td>\n",
       "      <td>195</td>\n",
       "      <td>194</td>\n",
       "      <td>195</td>\n",
       "    </tr>\n",
       "    <tr>\n",
       "      <th>3</th>\n",
       "      <td>2</td>\n",
       "      <td>211</td>\n",
       "      <td>211</td>\n",
       "      <td>212</td>\n",
       "      <td>212</td>\n",
       "      <td>211</td>\n",
       "      <td>210</td>\n",
       "      <td>211</td>\n",
       "      <td>210</td>\n",
       "      <td>210</td>\n",
       "      <td>...</td>\n",
       "      <td>235</td>\n",
       "      <td>234</td>\n",
       "      <td>233</td>\n",
       "      <td>231</td>\n",
       "      <td>230</td>\n",
       "      <td>226</td>\n",
       "      <td>225</td>\n",
       "      <td>222</td>\n",
       "      <td>229</td>\n",
       "      <td>163</td>\n",
       "    </tr>\n",
       "    <tr>\n",
       "      <th>4</th>\n",
       "      <td>13</td>\n",
       "      <td>164</td>\n",
       "      <td>167</td>\n",
       "      <td>170</td>\n",
       "      <td>172</td>\n",
       "      <td>176</td>\n",
       "      <td>179</td>\n",
       "      <td>180</td>\n",
       "      <td>184</td>\n",
       "      <td>185</td>\n",
       "      <td>...</td>\n",
       "      <td>92</td>\n",
       "      <td>105</td>\n",
       "      <td>105</td>\n",
       "      <td>108</td>\n",
       "      <td>133</td>\n",
       "      <td>163</td>\n",
       "      <td>157</td>\n",
       "      <td>163</td>\n",
       "      <td>164</td>\n",
       "      <td>179</td>\n",
       "    </tr>\n",
       "  </tbody>\n",
       "</table>\n",
       "<p>5 rows × 785 columns</p>\n",
       "</div>"
      ],
      "text/plain": [
       "   label  pixel1  pixel2  pixel3  pixel4  pixel5  pixel6  pixel7  pixel8  \\\n",
       "0      3     107     118     127     134     139     143     146     150   \n",
       "1      6     155     157     156     156     156     157     156     158   \n",
       "2      2     187     188     188     187     187     186     187     188   \n",
       "3      2     211     211     212     212     211     210     211     210   \n",
       "4     13     164     167     170     172     176     179     180     184   \n",
       "\n",
       "   pixel9  ...  pixel775  pixel776  pixel777  pixel778  pixel779  pixel780  \\\n",
       "0     153  ...       207       207       207       207       206       206   \n",
       "1     158  ...        69       149       128        87        94       163   \n",
       "2     187  ...       202       201       200       199       198       199   \n",
       "3     210  ...       235       234       233       231       230       226   \n",
       "4     185  ...        92       105       105       108       133       163   \n",
       "\n",
       "   pixel781  pixel782  pixel783  pixel784  \n",
       "0       206       204       203       202  \n",
       "1       175       103       135       149  \n",
       "2       198       195       194       195  \n",
       "3       225       222       229       163  \n",
       "4       157       163       164       179  \n",
       "\n",
       "[5 rows x 785 columns]"
      ]
     },
     "execution_count": 11,
     "metadata": {},
     "output_type": "execute_result"
    }
   ],
   "source": [
    "train = pd.read_csv('sign_mnist_train.csv')\n",
    "test = pd.read_csv('sign_mnist_test.csv')\n",
    "train.head()"
   ]
  },
  {
   "cell_type": "markdown",
   "metadata": {
    "id": "c7Cg5jy3uiAD"
   },
   "source": []
  },
  {
   "cell_type": "markdown",
   "metadata": {
    "id": "o564d3gcuiFZ"
   },
   "source": [
    "Find the dimension of the dataframe:"
   ]
  },
  {
   "cell_type": "code",
   "execution_count": 12,
   "metadata": {
    "colab": {
     "base_uri": "https://localhost:8080/"
    },
    "id": "5arxXt3rug7K",
    "outputId": "8093f967-49a2-497d-9022-c3bec7f35592"
   },
   "outputs": [
    {
     "data": {
      "text/plain": [
       "(27455, 785)"
      ]
     },
     "execution_count": 12,
     "metadata": {},
     "output_type": "execute_result"
    }
   ],
   "source": [
    "train.shape"
   ]
  },
  {
   "cell_type": "markdown",
   "metadata": {
    "id": "yHRmSeQIuxam"
   },
   "source": [
    "The train set is reworked to reduce data size. In particular, all images are in grayscale and their sizes are 28 * 28 pixels."
   ]
  },
  {
   "cell_type": "markdown",
   "metadata": {
    "id": "fipzisOAuzeU"
   },
   "source": [
    "## Data Preprocessing\n",
    "First, start to extract information from the data by looking at labels:"
   ]
  },
  {
   "cell_type": "code",
   "execution_count": 13,
   "metadata": {
    "colab": {
     "base_uri": "https://localhost:8080/"
    },
    "id": "C5Z4UzkfumSg",
    "outputId": "36788710-7e40-40ce-e2cb-3d8b834e33c3"
   },
   "outputs": [
    {
     "data": {
      "text/plain": [
       "array([ 0,  1,  2,  3,  4,  5,  6,  7,  8, 10, 11, 12, 13, 14, 15, 16, 17,\n",
       "       18, 19, 20, 21, 22, 23, 24], dtype=int64)"
      ]
     },
     "execution_count": 13,
     "metadata": {},
     "output_type": "execute_result"
    }
   ],
   "source": [
    "labels = train['label'].values\n",
    "\n",
    "unique_val = np.array(labels)\n",
    "np.unique(unique_val)"
   ]
  },
  {
   "cell_type": "markdown",
   "metadata": {
    "id": "qprtfUfmu8vy"
   },
   "source": [
    "See if your data is balanced:"
   ]
  },
  {
   "cell_type": "code",
   "execution_count": 14,
   "metadata": {
    "colab": {
     "base_uri": "https://localhost:8080/",
     "height": 501
    },
    "id": "mwcPH4n0u52q",
    "outputId": "6cfcae05-f252-407c-eae2-1370749b7c4c"
   },
   "outputs": [
    {
     "data": {
      "text/plain": [
       "<AxesSubplot:ylabel='count'>"
      ]
     },
     "execution_count": 14,
     "metadata": {},
     "output_type": "execute_result"
    },
    {
     "data": {
      "image/png": "[encoded data removed]",
      "text/plain": [
       "<Figure size 1296x576 with 1 Axes>"
      ]
     },
     "metadata": {
      "needs_background": "light"
     },
     "output_type": "display_data"
    }
   ],
   "source": [
    "plt.figure(figsize = (18,8))\n",
    "sns.countplot(x =labels)"
   ]
  },
  {
   "cell_type": "markdown",
   "metadata": {
    "id": "d78tN7d7vC5c"
   },
   "source": [
    "As you can see from the plot, all output numbers are about the same.\n",
    "\n",
    "For your CNN network you should create an output array with Label Binarizer from the labels."
   ]
  },
  {
   "cell_type": "code",
   "execution_count": 15,
   "metadata": {
    "colab": {
     "base_uri": "https://localhost:8080/"
    },
    "id": "6rLcURc_vBCQ",
    "outputId": "8677ebf1-2ede-48ba-c007-0f601948062f"
   },
   "outputs": [
    {
     "data": {
      "text/plain": [
       "array([[0, 0, 0, ..., 0, 0, 0],\n",
       "       [0, 0, 0, ..., 0, 0, 0],\n",
       "       [0, 0, 1, ..., 0, 0, 0],\n",
       "       ...,\n",
       "       [0, 0, 0, ..., 0, 0, 0],\n",
       "       [0, 0, 0, ..., 0, 0, 0],\n",
       "       [0, 0, 0, ..., 0, 1, 0]])"
      ]
     },
     "execution_count": 15,
     "metadata": {},
     "output_type": "execute_result"
    }
   ],
   "source": [
    "from sklearn.preprocessing import LabelBinarizer\n",
    "label_binrizer = LabelBinarizer()\n",
    "labels = label_binrizer.fit_transform(labels)\n",
    "labels"
   ]
  },
  {
   "cell_type": "markdown",
   "metadata": {
    "id": "dvLU12-9vHql"
   },
   "source": [
    "Now you can drop the label column from the 'train' set and work with the rest of data."
   ]
  },
  {
   "cell_type": "code",
   "execution_count": 16,
   "metadata": {
    "id": "jenpNjPIvXlY"
   },
   "outputs": [],
   "source": [
    "train.drop('label', axis = 1, inplace = True)"
   ]
  },
  {
   "cell_type": "markdown",
   "metadata": {
    "id": "05cFScs2vZSI"
   },
   "source": [
    "Now take out the image information from the train object and put it into a numpy array. What is the data type? What are the range and dimensions?"
   ]
  },
  {
   "cell_type": "code",
   "execution_count": 17,
   "metadata": {
    "colab": {
     "base_uri": "https://localhost:8080/"
    },
    "id": "pun0X7zMvkYl",
    "outputId": "6bff84d2-a9f8-4d8a-c5ee-8ff90f422beb"
   },
   "outputs": [
    {
     "name": "stdout",
     "output_type": "stream",
     "text": [
      "int64 0 255 (27455, 784)\n"
     ]
    }
   ],
   "source": [
    "images = train.values\n",
    "print(images.dtype, np.round(images.min(), 4), np.round(images.max(), 4), images.shape)"
   ]
  },
  {
   "cell_type": "markdown",
   "metadata": {
    "id": "rrU9M7YIvnCc"
   },
   "source": [
    "Display the provided images in the first 5 rows:"
   ]
  },
  {
   "cell_type": "code",
   "execution_count": 18,
   "metadata": {
    "colab": {
     "base_uri": "https://localhost:8080/",
     "height": 276
    },
    "id": "O8E_UPGSvoxy",
    "outputId": "ff0c7f9e-dd64-4404-8e65-ecbd0f8a5b09"
   },
   "outputs": [
    {
     "data": {
      "text/plain": [
       "Text(0.5, 0.98, 'Grayscale images')"
      ]
     },
     "execution_count": 18,
     "metadata": {},
     "output_type": "execute_result"
    },
    {
     "data": {
      "image/png": "[encoded data removed]",
      "text/plain": [
       "<Figure size 1080x288 with 5 Axes>"
      ]
     },
     "metadata": {},
     "output_type": "display_data"
    }
   ],
   "source": [
    "plt.style.use('grayscale')\n",
    "fig, axs = plt.subplots(1, 5, figsize=(15, 4), sharey=True)\n",
    "for i in range(5): \n",
    "        axs[i].imshow(images[i].reshape(28,28))\n",
    "fig.suptitle('Grayscale images')"
   ]
  },
  {
   "cell_type": "markdown",
   "metadata": {
    "id": "Pf9dNNYgvy-F"
   },
   "source": [
    "Normalize the data before applying the CNN. The data values range from 0 to 255, so you should normalize and divide every entry by 225:"
   ]
  },
  {
   "cell_type": "code",
   "execution_count": 19,
   "metadata": {
    "id": "D9XXbsGxvyGk"
   },
   "outputs": [],
   "source": [
    "images =  images/255"
   ]
  },
  {
   "cell_type": "markdown",
   "metadata": {
    "id": "MHA18nhmv8GM"
   },
   "source": [
    "For validation during a model fitting you will need to divide your train set into two parts:"
   ]
  },
  {
   "cell_type": "code",
   "execution_count": 20,
   "metadata": {
    "id": "JJKwOg0EwBOg"
   },
   "outputs": [],
   "source": [
    "from sklearn.model_selection import train_test_split\n",
    "x_train, x_test, y_train, y_test = train_test_split(images, labels, test_size = 0.3, stratify = labels, random_state = 7)"
   ]
  },
  {
   "cell_type": "markdown",
   "metadata": {
    "id": "zstyYdVywGTq"
   },
   "source": [
    "Now reshape the rows as square tables in order to use a Convolution Neural Network method:"
   ]
  },
  {
   "cell_type": "code",
   "execution_count": 21,
   "metadata": {
    "id": "57eRkUkpwFba"
   },
   "outputs": [],
   "source": [
    "x_train = x_train.reshape(x_train.shape[0], 28, 28, 1)\n",
    "x_test = x_test.reshape(x_test.shape[0], 28, 28, 1)"
   ]
  },
  {
   "cell_type": "markdown",
   "metadata": {
    "id": "CME1BPncwUJL"
   },
   "source": [
    "## Convolutional Neural Network Model, or CNN\n",
    "\n",
    "For CNN, use the following Keras library:"
   ]
  },
  {
   "cell_type": "code",
   "execution_count": 22,
   "metadata": {
    "id": "wtI1gS_Iwcz8"
   },
   "outputs": [],
   "source": [
    "import keras\n",
    "from keras.models import Sequential\n",
    "from keras.layers import Dense, Conv2D, MaxPooling2D, Flatten, Dropout"
   ]
  },
  {
   "cell_type": "markdown",
   "metadata": {
    "id": "9uko0lgvwftW"
   },
   "source": [
    "Set a number of classes, a batch size and a number of epochs:"
   ]
  },
  {
   "cell_type": "code",
   "execution_count": 23,
   "metadata": {
    "id": "XhixqUESwhzF"
   },
   "outputs": [],
   "source": [
    "num_classes = 24\n",
    "batch_size = 125\n",
    "epochs = 50\n",
    "\n",
    "model = Sequential()\n",
    "model.add(Conv2D(64, kernel_size=(4,4), activation = 'relu', input_shape=(28, 28 ,1), padding='same' ))\n",
    "model.add(Dropout(0.4))\n",
    "model.add(MaxPooling2D(pool_size = (2, 2)))\n",
    "\n",
    "model.add(Conv2D(64, kernel_size = (4, 4), activation = 'relu', padding='same' ))\n",
    "model.add(Dropout(0.4))\n",
    "model.add(MaxPooling2D(pool_size = (2, 2)))\n",
    "\n",
    "model.add(Conv2D(64, kernel_size = (3, 3), activation = 'relu'))\n",
    "model.add(Dropout(0.4))\n",
    "model.add(MaxPooling2D(pool_size = (2, 2)))\n",
    "\n",
    "model.add(Flatten())\n",
    "model.add(Dense(128, activation = 'relu'))\n",
    "model.add(Dense(num_classes, activation = 'softmax'))\n",
    "model.compile(loss = keras.losses.categorical_crossentropy, optimizer='nadam',\n",
    "              metrics=['accuracy'])\n"
   ]
  },
  {
   "cell_type": "markdown",
   "metadata": {
    "id": "g1oiB0UxwojM"
   },
   "source": [
    "This part is for image augmentation during model fitting\n",
    "\n",
    "###Try adjusting these parameters and observe the difference in results"
   ]
  },
  {
   "cell_type": "code",
   "execution_count": 24,
   "metadata": {
    "id": "gMlIPLa-wntk"
   },
   "outputs": [],
   "source": [
    "from keras.preprocessing.image import ImageDataGenerator\n",
    "train_datagen = ImageDataGenerator(shear_range = 0.25,\n",
    "                                   zoom_range = 0.15,\n",
    "                                   rotation_range = 15,\n",
    "                                   brightness_range = [0.15, 1.15],\n",
    "                                   width_shift_range = [-2,-1, 0, +1, +2],\n",
    "                                   height_shift_range = [ -1, 0, +1],\n",
    "                                   fill_mode = 'reflect')\n",
    "test_datagen = ImageDataGenerator()"
   ]
  },
  {
   "cell_type": "code",
   "execution_count": 25,
   "metadata": {
    "colab": {
     "base_uri": "https://localhost:8080/"
    },
    "id": "u0kqk6ORwtP0",
    "outputId": "84a1726e-6211-4358-e10b-0dc4b657d55e"
   },
   "outputs": [
    {
     "name": "stdout",
     "output_type": "stream",
     "text": [
      "Epoch 1/50\n",
      "154/154 [==============================] - 11s 68ms/step - loss: 2.2454 - accuracy: 0.3137 - val_loss: 1.8102 - val_accuracy: 0.6627\n",
      "Epoch 2/50\n",
      "154/154 [==============================] - 11s 69ms/step - loss: 0.7257 - accuracy: 0.7570 - val_loss: 0.9146 - val_accuracy: 0.9241\n",
      "Epoch 3/50\n",
      "154/154 [==============================] - 14s 93ms/step - loss: 0.3420 - accuracy: 0.8851 - val_loss: 0.5796 - val_accuracy: 0.9653\n",
      "Epoch 4/50\n",
      "154/154 [==============================] - 19s 124ms/step - loss: 0.1889 - accuracy: 0.9351 - val_loss: 0.3485 - val_accuracy: 0.9977\n",
      "Epoch 5/50\n",
      "154/154 [==============================] - 19s 123ms/step - loss: 0.1183 - accuracy: 0.9592 - val_loss: 0.2429 - val_accuracy: 0.9987\n",
      "Epoch 6/50\n",
      "154/154 [==============================] - 19s 121ms/step - loss: 0.0831 - accuracy: 0.9723 - val_loss: 0.1898 - val_accuracy: 0.9990\n",
      "Epoch 7/50\n",
      "154/154 [==============================] - 19s 121ms/step - loss: 0.0568 - accuracy: 0.9815 - val_loss: 0.1364 - val_accuracy: 0.9999\n",
      "Epoch 8/50\n",
      "154/154 [==============================] - 19s 122ms/step - loss: 0.0472 - accuracy: 0.9845 - val_loss: 0.1234 - val_accuracy: 0.9967\n",
      "Epoch 9/50\n",
      "154/154 [==============================] - 19s 121ms/step - loss: 0.0410 - accuracy: 0.9868 - val_loss: 0.0945 - val_accuracy: 1.0000\n",
      "Epoch 10/50\n",
      "154/154 [==============================] - 19s 122ms/step - loss: 0.0329 - accuracy: 0.9896 - val_loss: 0.0777 - val_accuracy: 0.9990\n",
      "Epoch 11/50\n",
      "154/154 [==============================] - 19s 123ms/step - loss: 0.0283 - accuracy: 0.9908 - val_loss: 0.0577 - val_accuracy: 0.9999\n",
      "Epoch 12/50\n",
      "154/154 [==============================] - 19s 122ms/step - loss: 0.0255 - accuracy: 0.9917 - val_loss: 0.0541 - val_accuracy: 0.9999\n",
      "Epoch 13/50\n",
      "154/154 [==============================] - 19s 122ms/step - loss: 0.0214 - accuracy: 0.9932 - val_loss: 0.0527 - val_accuracy: 1.0000\n",
      "Epoch 14/50\n",
      "154/154 [==============================] - 19s 123ms/step - loss: 0.0165 - accuracy: 0.9949 - val_loss: 0.0432 - val_accuracy: 1.0000\n",
      "Epoch 15/50\n",
      "154/154 [==============================] - 19s 122ms/step - loss: 0.0207 - accuracy: 0.9929 - val_loss: 0.0415 - val_accuracy: 0.9999\n",
      "Epoch 16/50\n",
      "154/154 [==============================] - 19s 122ms/step - loss: 0.0156 - accuracy: 0.9946 - val_loss: 0.0341 - val_accuracy: 1.0000\n",
      "Epoch 17/50\n",
      "154/154 [==============================] - 19s 124ms/step - loss: 0.0181 - accuracy: 0.9947 - val_loss: 0.0311 - val_accuracy: 1.0000\n",
      "Epoch 18/50\n",
      "154/154 [==============================] - 19s 124ms/step - loss: 0.0126 - accuracy: 0.9961 - val_loss: 0.0267 - val_accuracy: 1.0000\n",
      "Epoch 19/50\n",
      "154/154 [==============================] - 19s 124ms/step - loss: 0.0188 - accuracy: 0.9933 - val_loss: 0.0444 - val_accuracy: 0.9987\n",
      "Epoch 20/50\n",
      "154/154 [==============================] - 19s 121ms/step - loss: 0.0158 - accuracy: 0.9951 - val_loss: 0.0330 - val_accuracy: 1.0000\n",
      "Epoch 21/50\n",
      "154/154 [==============================] - 20s 127ms/step - loss: 0.0187 - accuracy: 0.9940 - val_loss: 0.0396 - val_accuracy: 1.0000\n",
      "Epoch 22/50\n",
      "154/154 [==============================] - 19s 124ms/step - loss: 0.0132 - accuracy: 0.9955 - val_loss: 0.0230 - val_accuracy: 1.0000\n",
      "Epoch 23/50\n",
      "154/154 [==============================] - 19s 124ms/step - loss: 0.0095 - accuracy: 0.9975 - val_loss: 0.0139 - val_accuracy: 1.0000\n",
      "Epoch 24/50\n",
      "154/154 [==============================] - 19s 124ms/step - loss: 0.0135 - accuracy: 0.9957 - val_loss: 0.0192 - val_accuracy: 1.0000\n",
      "Epoch 25/50\n",
      "154/154 [==============================] - 19s 124ms/step - loss: 0.0164 - accuracy: 0.9943 - val_loss: 0.0161 - val_accuracy: 1.0000\n",
      "Epoch 26/50\n",
      "154/154 [==============================] - 19s 122ms/step - loss: 0.0080 - accuracy: 0.9973 - val_loss: 0.0169 - val_accuracy: 1.0000\n",
      "Epoch 27/50\n",
      "154/154 [==============================] - 19s 123ms/step - loss: 0.0108 - accuracy: 0.9965 - val_loss: 0.0119 - val_accuracy: 1.0000\n",
      "Epoch 28/50\n",
      "154/154 [==============================] - 19s 123ms/step - loss: 0.0130 - accuracy: 0.9959 - val_loss: 0.0173 - val_accuracy: 1.0000\n",
      "Epoch 29/50\n",
      "154/154 [==============================] - 19s 123ms/step - loss: 0.0123 - accuracy: 0.9963 - val_loss: 0.0181 - val_accuracy: 0.9999\n",
      "Epoch 30/50\n",
      "154/154 [==============================] - 19s 124ms/step - loss: 0.0114 - accuracy: 0.9961 - val_loss: 0.0147 - val_accuracy: 1.0000\n",
      "Epoch 31/50\n",
      "154/154 [==============================] - 19s 122ms/step - loss: 0.0097 - accuracy: 0.9970 - val_loss: 0.0135 - val_accuracy: 1.0000\n",
      "Epoch 32/50\n",
      "154/154 [==============================] - 19s 121ms/step - loss: 0.0111 - accuracy: 0.9962 - val_loss: 0.0110 - val_accuracy: 1.0000\n",
      "Epoch 33/50\n",
      "154/154 [==============================] - 15s 99ms/step - loss: 0.0103 - accuracy: 0.9967 - val_loss: 0.0081 - val_accuracy: 1.0000\n",
      "Epoch 34/50\n",
      "154/154 [==============================] - 19s 123ms/step - loss: 0.0129 - accuracy: 0.9955 - val_loss: 0.0069 - val_accuracy: 0.9999\n",
      "Epoch 35/50\n",
      "154/154 [==============================] - 18s 120ms/step - loss: 0.0091 - accuracy: 0.9972 - val_loss: 0.0071 - val_accuracy: 1.0000\n",
      "Epoch 36/50\n",
      "154/154 [==============================] - 19s 122ms/step - loss: 0.0072 - accuracy: 0.9974 - val_loss: 0.0094 - val_accuracy: 1.0000\n",
      "Epoch 37/50\n",
      "154/154 [==============================] - 19s 121ms/step - loss: 0.0072 - accuracy: 0.9972 - val_loss: 0.0071 - val_accuracy: 0.9998\n",
      "Epoch 38/50\n",
      "154/154 [==============================] - 11s 72ms/step - loss: 0.0126 - accuracy: 0.9960 - val_loss: 0.0083 - val_accuracy: 0.9999\n",
      "Epoch 39/50\n",
      "154/154 [==============================] - 11s 69ms/step - loss: 0.0106 - accuracy: 0.9968 - val_loss: 0.0061 - val_accuracy: 1.0000\n",
      "Epoch 40/50\n",
      "154/154 [==============================] - 11s 68ms/step - loss: 0.0130 - accuracy: 0.9955 - val_loss: 0.0067 - val_accuracy: 1.0000\n",
      "Epoch 41/50\n",
      "154/154 [==============================] - 11s 69ms/step - loss: 0.0077 - accuracy: 0.9977 - val_loss: 0.0093 - val_accuracy: 1.0000\n",
      "Epoch 42/50\n",
      "154/154 [==============================] - 11s 70ms/step - loss: 0.0098 - accuracy: 0.9969 - val_loss: 0.0063 - val_accuracy: 1.0000\n",
      "Epoch 43/50\n",
      "154/154 [==============================] - 11s 70ms/step - loss: 0.0121 - accuracy: 0.9964 - val_loss: 0.0140 - val_accuracy: 1.0000\n",
      "Epoch 44/50\n",
      "154/154 [==============================] - 11s 71ms/step - loss: 0.0092 - accuracy: 0.9968 - val_loss: 0.0067 - val_accuracy: 1.0000\n",
      "Epoch 45/50\n",
      "154/154 [==============================] - 10s 68ms/step - loss: 0.0066 - accuracy: 0.9977 - val_loss: 0.0034 - val_accuracy: 1.0000\n",
      "Epoch 46/50\n",
      "154/154 [==============================] - 11s 71ms/step - loss: 0.0117 - accuracy: 0.9964 - val_loss: 0.0059 - val_accuracy: 0.9999\n",
      "Epoch 47/50\n",
      "154/154 [==============================] - 11s 70ms/step - loss: 0.0093 - accuracy: 0.9971 - val_loss: 0.0033 - val_accuracy: 1.0000\n",
      "Epoch 48/50\n",
      "154/154 [==============================] - 11s 72ms/step - loss: 0.0062 - accuracy: 0.9981 - val_loss: 0.0030 - val_accuracy: 1.0000\n",
      "Epoch 49/50\n",
      "154/154 [==============================] - 11s 70ms/step - loss: 0.0097 - accuracy: 0.9972 - val_loss: 0.0027 - val_accuracy: 1.0000\n",
      "Epoch 50/50\n",
      "154/154 [==============================] - 10s 68ms/step - loss: 0.0043 - accuracy: 0.9985 - val_loss: 0.0019 - val_accuracy: 1.0000\n"
     ]
    }
   ],
   "source": [
    "history = model.fit(x_train, y_train, validation_data = (x_test, y_test), epochs=epochs, batch_size=batch_size)"
   ]
  },
  {
   "cell_type": "code",
   "execution_count": 29,
   "metadata": {
    "colab": {
     "base_uri": "https://localhost:8080/",
     "height": 240
    },
    "id": "oLKhdoTDwwGG",
    "outputId": "01647220-0e0a-407f-c92c-c9fbf9fee2b5"
   },
   "outputs": [
    {
     "data": {
      "image/png": "[encoded data removed]",
      "text/plain": [
       "<Figure size 432x288 with 1 Axes>"
      ]
     },
     "metadata": {},
     "output_type": "display_data"
    }
   ],
   "source": [
    "plt.style.use('tableau-colorblind10')\n",
    "plt.plot(history.history['accuracy'])\n",
    "plt.plot(history.history['val_accuracy'])\n",
    "plt.ylim(0.80, 1.05)\n",
    "plt.title(\"Accuracy\")\n",
    "plt.xlabel('epoch')\n",
    "plt.ylabel('accuracy')\n",
    "plt.legend(['train','test'])\n",
    "plt.show()"
   ]
  },
  {
   "cell_type": "markdown",
   "metadata": {
    "id": "s6AGmYm3wyDG"
   },
   "source": [
    "Validate with the test data. At first it must be preprocessed in the same way as the data for model fitting. This means that you must remove its label column, divide all values by 225, and the rows should be reshaped as square arrays."
   ]
  },
  {
   "cell_type": "code",
   "execution_count": 30,
   "metadata": {
    "id": "8ozN-52ow0kn"
   },
   "outputs": [
    {
     "data": {
      "text/plain": [
       "(7172, 28, 28, 1)"
      ]
     },
     "execution_count": 30,
     "metadata": {},
     "output_type": "execute_result"
    }
   ],
   "source": [
    "test_labels = test['label']\n",
    "test.drop('label', axis = 1, inplace = True)\n",
    "test_images = test.values/255\n",
    "test_images = np.array([np.reshape(i, (28, 28)) for i in test_images])\n",
    "test_images = np.array([i.flatten() for i in test_images])\n",
    "test_labels = label_binrizer.fit_transform(test_labels)\n",
    "test_images = test_images.reshape(test_images.shape[0], 28, 28, 1)\n",
    "test_images.shape"
   ]
  },
  {
   "cell_type": "markdown",
   "metadata": {
    "id": "voIaPaLTw2n7"
   },
   "source": [
    "Here are the predictions and accuracy of the provided test set."
   ]
  },
  {
   "cell_type": "code",
   "execution_count": 31,
   "metadata": {
    "id": "TRStT1ezw4kY"
   },
   "outputs": [
    {
     "data": {
      "text/plain": [
       "0.9846625766871165"
      ]
     },
     "execution_count": 31,
     "metadata": {},
     "output_type": "execute_result"
    }
   ],
   "source": [
    "y_pred = model.predict(test_images)\n",
    "from sklearn.metrics import accuracy_score\n",
    "y_pred = y_pred.round()\n",
    "accuracy_score(test_labels, y_pred)"
   ]
  }
 ],
 "metadata": {
  "colab": {
   "provenance": []
  },
  "kernelspec": {
   "display_name": "neuralNetworks",
   "language": "python",
   "name": "python3"
  },
  "language_info": {
   "codemirror_mode": {
    "name": "ipython",
    "version": 3
   },
   "file_extension": ".py",
   "mimetype": "text/x-python",
   "name": "python",
   "nbconvert_exporter": "python",
   "pygments_lexer": "ipython3",
   "version": "3.6.13"
  }
 },
 "nbformat": 4,
 "nbformat_minor": 1
}
