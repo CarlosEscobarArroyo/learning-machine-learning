{
 "cells": [
  {
   "cell_type": "markdown",
   "metadata": {
    "id": "jG788--CyExN"
   },
   "source": [
    "# Module Import"
   ]
  },
  {
   "cell_type": "code",
   "execution_count": 5,
   "metadata": {
    "id": "G8bltmBFJYz0"
   },
   "outputs": [],
   "source": [
    "import numpy as np\n",
    "import pandas as pd\n",
    "import matplotlib.pyplot as plt\n",
    "import warnings\n",
    "from datetime import datetime\n",
    "import xgboost\n",
    "from sklearn.metrics import accuracy_score, confusion_matrix\n",
    "from sklearn.metrics import auc\n",
    "from sklearn.metrics import roc_auc_score\n",
    "from sklearn.model_selection import train_test_split\n",
    "from sklearn.metrics import mean_squared_error, r2_score\n",
    "\n",
    "warnings.simplefilter(action=\"ignore\", category=UserWarning)"
   ]
  },
  {
   "cell_type": "markdown",
   "metadata": {
    "id": "FogyAYe1x87M"
   },
   "source": [
    "## Dataset Import"
   ]
  },
  {
   "cell_type": "markdown",
   "metadata": {
    "id": "ECRJiTWPBAKi"
   },
   "source": [
    "Using the LendingClub loans dataset."
   ]
  },
  {
   "cell_type": "code",
   "execution_count": 6,
   "metadata": {
    "id": "n38gY_0gJivd"
   },
   "outputs": [],
   "source": [
    "df =  pd.read_csv('loans.csv', index_col= False )\n"
   ]
  },
  {
   "cell_type": "code",
   "execution_count": 7,
   "metadata": {
    "colab": {
     "base_uri": "https://localhost:8080/"
    },
    "id": "PlmFmwdX8Qfl",
    "outputId": "a7a5df77-60ff-4f84-b2e0-407b73335ff7"
   },
   "outputs": [
    {
     "name": "stdout",
     "output_type": "stream",
     "text": [
      "<class 'pandas.core.frame.DataFrame'>\n",
      "RangeIndex: 9516 entries, 0 to 9515\n",
      "Data columns (total 7 columns):\n",
      " #   Column       Non-Null Count  Dtype  \n",
      "---  ------       --------------  -----  \n",
      " 0   default      9516 non-null   int64  \n",
      " 1   installment  9516 non-null   int64  \n",
      " 2   log_income   9516 non-null   float64\n",
      " 3   fico_score   9516 non-null   int64  \n",
      " 4   rev_balance  9516 non-null   float64\n",
      " 5   inquiries    9516 non-null   int64  \n",
      " 6   records      9516 non-null   int64  \n",
      "dtypes: float64(2), int64(5)\n",
      "memory usage: 520.5 KB\n"
     ]
    }
   ],
   "source": [
    "df.info()"
   ]
  },
  {
   "cell_type": "code",
   "execution_count": 8,
   "metadata": {
    "colab": {
     "base_uri": "https://localhost:8080/",
     "height": 237
    },
    "id": "dA0BhU6gJ5cj",
    "outputId": "cb4c22ff-5181-4493-94f3-46f55f7b7a3f"
   },
   "outputs": [
    {
     "data": {
      "application/vnd.microsoft.datawrangler.viewer.v0+json": {
       "columns": [
        {
         "name": "index",
         "rawType": "int64",
         "type": "integer"
        },
        {
         "name": "default",
         "rawType": "int64",
         "type": "integer"
        },
        {
         "name": "installment",
         "rawType": "int64",
         "type": "integer"
        },
        {
         "name": "log_income",
         "rawType": "float64",
         "type": "float"
        },
        {
         "name": "fico_score",
         "rawType": "int64",
         "type": "integer"
        },
        {
         "name": "rev_balance",
         "rawType": "float64",
         "type": "float"
        },
        {
         "name": "inquiries",
         "rawType": "int64",
         "type": "integer"
        },
        {
         "name": "records",
         "rawType": "int64",
         "type": "integer"
        }
       ],
       "conversionMethod": "pd.DataFrame",
       "ref": "2c053339-46a6-446a-a725-78b152994a9c",
       "rows": [
        [
         "0",
         "0",
         "829",
         "4.93",
         "737",
         "28.85",
         "0",
         "0"
        ],
        [
         "1",
         "0",
         "228",
         "4.81",
         "707",
         "33.62",
         "0",
         "0"
        ],
        [
         "2",
         "0",
         "367",
         "4.51",
         "682",
         "3.51",
         "1",
         "0"
        ],
        [
         "3",
         "0",
         "162",
         "4.93",
         "712",
         "33.67",
         "1",
         "0"
        ],
        [
         "4",
         "0",
         "103",
         "4.91",
         "667",
         "4.74",
         "0",
         "0"
        ],
        [
         "5",
         "0",
         "125",
         "5.17",
         "727",
         "50.81",
         "0",
         "0"
        ]
       ],
       "shape": {
        "columns": 7,
        "rows": 6
       }
      },
      "text/html": [
       "<div>\n",
       "<style scoped>\n",
       "    .dataframe tbody tr th:only-of-type {\n",
       "        vertical-align: middle;\n",
       "    }\n",
       "\n",
       "    .dataframe tbody tr th {\n",
       "        vertical-align: top;\n",
       "    }\n",
       "\n",
       "    .dataframe thead th {\n",
       "        text-align: right;\n",
       "    }\n",
       "</style>\n",
       "<table border=\"1\" class=\"dataframe\">\n",
       "  <thead>\n",
       "    <tr style=\"text-align: right;\">\n",
       "      <th></th>\n",
       "      <th>default</th>\n",
       "      <th>installment</th>\n",
       "      <th>log_income</th>\n",
       "      <th>fico_score</th>\n",
       "      <th>rev_balance</th>\n",
       "      <th>inquiries</th>\n",
       "      <th>records</th>\n",
       "    </tr>\n",
       "  </thead>\n",
       "  <tbody>\n",
       "    <tr>\n",
       "      <th>0</th>\n",
       "      <td>0</td>\n",
       "      <td>829</td>\n",
       "      <td>4.93</td>\n",
       "      <td>737</td>\n",
       "      <td>28.85</td>\n",
       "      <td>0</td>\n",
       "      <td>0</td>\n",
       "    </tr>\n",
       "    <tr>\n",
       "      <th>1</th>\n",
       "      <td>0</td>\n",
       "      <td>228</td>\n",
       "      <td>4.81</td>\n",
       "      <td>707</td>\n",
       "      <td>33.62</td>\n",
       "      <td>0</td>\n",
       "      <td>0</td>\n",
       "    </tr>\n",
       "    <tr>\n",
       "      <th>2</th>\n",
       "      <td>0</td>\n",
       "      <td>367</td>\n",
       "      <td>4.51</td>\n",
       "      <td>682</td>\n",
       "      <td>3.51</td>\n",
       "      <td>1</td>\n",
       "      <td>0</td>\n",
       "    </tr>\n",
       "    <tr>\n",
       "      <th>3</th>\n",
       "      <td>0</td>\n",
       "      <td>162</td>\n",
       "      <td>4.93</td>\n",
       "      <td>712</td>\n",
       "      <td>33.67</td>\n",
       "      <td>1</td>\n",
       "      <td>0</td>\n",
       "    </tr>\n",
       "    <tr>\n",
       "      <th>4</th>\n",
       "      <td>0</td>\n",
       "      <td>103</td>\n",
       "      <td>4.91</td>\n",
       "      <td>667</td>\n",
       "      <td>4.74</td>\n",
       "      <td>0</td>\n",
       "      <td>0</td>\n",
       "    </tr>\n",
       "    <tr>\n",
       "      <th>5</th>\n",
       "      <td>0</td>\n",
       "      <td>125</td>\n",
       "      <td>5.17</td>\n",
       "      <td>727</td>\n",
       "      <td>50.81</td>\n",
       "      <td>0</td>\n",
       "      <td>0</td>\n",
       "    </tr>\n",
       "  </tbody>\n",
       "</table>\n",
       "</div>"
      ],
      "text/plain": [
       "   default  installment  log_income  fico_score  rev_balance  inquiries  \\\n",
       "0        0          829        4.93         737        28.85          0   \n",
       "1        0          228        4.81         707        33.62          0   \n",
       "2        0          367        4.51         682         3.51          1   \n",
       "3        0          162        4.93         712        33.67          1   \n",
       "4        0          103        4.91         667         4.74          0   \n",
       "5        0          125        5.17         727        50.81          0   \n",
       "\n",
       "   records  \n",
       "0        0  \n",
       "1        0  \n",
       "2        0  \n",
       "3        0  \n",
       "4        0  \n",
       "5        0  "
      ]
     },
     "execution_count": 8,
     "metadata": {},
     "output_type": "execute_result"
    }
   ],
   "source": [
    "df.head(6)"
   ]
  },
  {
   "cell_type": "code",
   "execution_count": 9,
   "metadata": {
    "colab": {
     "base_uri": "https://localhost:8080/"
    },
    "id": "5KgU2bXyOFF2",
    "outputId": "deb5398d-9035-45ea-fc5e-a9cf0d83a26a"
   },
   "outputs": [
    {
     "data": {
      "text/plain": [
       "default\n",
       "0    0.840164\n",
       "1    0.159836\n",
       "Name: proportion, dtype: float64"
      ]
     },
     "execution_count": 9,
     "metadata": {},
     "output_type": "execute_result"
    }
   ],
   "source": [
    "df.default.value_counts(normalize=True)"
   ]
  },
  {
   "cell_type": "markdown",
   "metadata": {
    "id": "yrewHH7y8KDe"
   },
   "source": [
    "## Training and Test Datasets"
   ]
  },
  {
   "cell_type": "markdown",
   "metadata": {
    "id": "o8af35eyn8GB"
   },
   "source": [
    "Let's split the data 70/30 into a training set (which we will use to build models) and a test set (on which we will evaluate any model we build)."
   ]
  },
  {
   "cell_type": "code",
   "execution_count": 10,
   "metadata": {
    "colab": {
     "base_uri": "https://localhost:8080/"
    },
    "id": "EyBIwHqz9twA",
    "outputId": "2396410b-3146-48dd-e053-4b9616749009"
   },
   "outputs": [
    {
     "name": "stdout",
     "output_type": "stream",
     "text": [
      "(6661, 6) (2855, 6)\n"
     ]
    }
   ],
   "source": [
    "\n",
    "X = df.drop(['default'], axis=1)\n",
    "y = df['default']\n",
    "\n",
    "\n",
    "# Encode string class values as integers to avoid errors in newer versions of XGBoost\n",
    "from sklearn.preprocessing import LabelEncoder\n",
    "label_encoder = LabelEncoder()\n",
    "label_encoder = label_encoder.fit(y)\n",
    "y = label_encoder.transform(y)\n",
    "\n",
    "\n",
    "# Splitting data into training and test set:\n",
    "X_train, X_test, y_train, y_test = train_test_split(X, y, test_size=0.3, random_state=7)\n",
    "eval_set=[(X_test, y_test)]\n",
    "print(X_train.shape, X_test.shape)\n"
   ]
  },
  {
   "cell_type": "code",
   "execution_count": 11,
   "metadata": {
    "colab": {
     "base_uri": "https://localhost:8080/"
    },
    "id": "vljE7_ab_0Ag",
    "outputId": "29fca16a-6f8f-4c4b-c1fa-ae7ef28e76c3"
   },
   "outputs": [
    {
     "name": "stdout",
     "output_type": "stream",
     "text": [
      "Initializing xgboost.sklearn.XGBClassifier and starting training...\n",
      "0:00:00.422441\n",
      "Accuracy: 83.4325744308%\n",
      "ROC-AUC: 50.0000000000%\n"
     ]
    }
   ],
   "source": [
    "print('Initializing xgboost.sklearn.XGBClassifier and starting training...')\n",
    "\n",
    "st = datetime.now()\n",
    "\n",
    "clf = xgboost.sklearn.XGBClassifier(\n",
    "    objective=\"binary:logistic\", \n",
    "    learning_rate=0.05, \n",
    "    seed=9616, \n",
    "    max_depth=20, \n",
    "    gamma=10, \n",
    "    n_estimators=500)\n",
    "\n",
    "clf.fit(X_train, y_train, early_stopping_rounds=20, eval_metric=\"auc\", eval_set=eval_set, verbose=False)\n",
    "\n",
    "print(datetime.now()-st)\n",
    "\n",
    "y_pred = clf.predict(X_test)\n",
    "\n",
    "\n",
    "accuracy = accuracy_score(np.array(y_test).flatten(), y_pred)\n",
    "print(\"Accuracy: %.10f%%\" % (accuracy * 100.0))\n",
    "\n",
    "accuracy_per_roc_auc = roc_auc_score(np.array(y_test).flatten(), y_pred)\n",
    "print(\"ROC-AUC: %.10f%%\" % (accuracy_per_roc_auc * 100))\n"
   ]
  },
  {
   "cell_type": "code",
   "execution_count": 12,
   "metadata": {
    "colab": {
     "base_uri": "https://localhost:8080/",
     "height": 312
    },
    "id": "lLtgBOFOS2JB",
    "outputId": "5633f78c-d189-4161-968c-f22d0979efe2"
   },
   "outputs": [
    {
     "data": {
      "text/plain": [
       "<Axes: title={'center': 'Feature importance'}, xlabel='F score', ylabel='Features'>"
      ]
     },
     "execution_count": 12,
     "metadata": {},
     "output_type": "execute_result"
    },
    {
     "data": {
      "image/png": "[encoded data removed]",
      "text/plain": [
       "<Figure size 640x480 with 1 Axes>"
      ]
     },
     "metadata": {},
     "output_type": "display_data"
    }
   ],
   "source": [
    "xgboost.plot_importance(clf)"
   ]
  }
 ],
 "metadata": {
  "colab": {
   "provenance": []
  },
  "kernelspec": {
   "display_name": "MITxPRO",
   "language": "python",
   "name": "python3"
  },
  "language_info": {
   "codemirror_mode": {
    "name": "ipython",
    "version": 3
   },
   "file_extension": ".py",
   "mimetype": "text/x-python",
   "name": "python",
   "nbconvert_exporter": "python",
   "pygments_lexer": "ipython3",
   "version": "3.12.9"
  }
 },
 "nbformat": 4,
 "nbformat_minor": 1
}
