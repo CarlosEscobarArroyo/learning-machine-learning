{
 "cells": [
  {
   "cell_type": "code",
   "execution_count": 55,
   "metadata": {},
   "outputs": [],
   "source": [
    "import numpy as np\n",
    "import pandas as pd\n",
    "import matplotlib.pyplot as plt\n",
    "import seaborn as sns\n",
    "from datetime import datetime\n",
    "import xgboost\n",
    "from sklearn.metrics import accuracy_score, confusion_matrix\n",
    "from sklearn.metrics import auc\n",
    "from sklearn.metrics import roc_auc_score\n",
    "from sklearn.model_selection import train_test_split\n",
    "from sklearn.metrics import mean_squared_error, r2_score\n",
    "import warnings "
   ]
  },
  {
   "cell_type": "code",
   "execution_count": 56,
   "metadata": {},
   "outputs": [],
   "source": [
    "df = pd.read_csv('loans.csv', index_col=False)"
   ]
  },
  {
   "cell_type": "code",
   "execution_count": 57,
   "metadata": {},
   "outputs": [
    {
     "data": {
      "application/vnd.microsoft.datawrangler.viewer.v0+json": {
       "columns": [
        {
         "name": "index",
         "rawType": "int64",
         "type": "integer"
        },
        {
         "name": "default",
         "rawType": "int64",
         "type": "integer"
        },
        {
         "name": "installment",
         "rawType": "int64",
         "type": "integer"
        },
        {
         "name": "log_income",
         "rawType": "float64",
         "type": "float"
        },
        {
         "name": "fico_score",
         "rawType": "int64",
         "type": "integer"
        },
        {
         "name": "rev_balance",
         "rawType": "float64",
         "type": "float"
        },
        {
         "name": "inquiries",
         "rawType": "int64",
         "type": "integer"
        },
        {
         "name": "records",
         "rawType": "int64",
         "type": "integer"
        }
       ],
       "conversionMethod": "pd.DataFrame",
       "ref": "f6f4ebef-54a1-4cd0-90f2-9ef2fda383de",
       "rows": [
        [
         "0",
         "0",
         "829",
         "4.93",
         "737",
         "28.85",
         "0",
         "0"
        ],
        [
         "1",
         "0",
         "228",
         "4.81",
         "707",
         "33.62",
         "0",
         "0"
        ],
        [
         "2",
         "0",
         "367",
         "4.51",
         "682",
         "3.51",
         "1",
         "0"
        ],
        [
         "3",
         "0",
         "162",
         "4.93",
         "712",
         "33.67",
         "1",
         "0"
        ],
        [
         "4",
         "0",
         "103",
         "4.91",
         "667",
         "4.74",
         "0",
         "0"
        ]
       ],
       "shape": {
        "columns": 7,
        "rows": 5
       }
      },
      "text/html": [
       "<div>\n",
       "<style scoped>\n",
       "    .dataframe tbody tr th:only-of-type {\n",
       "        vertical-align: middle;\n",
       "    }\n",
       "\n",
       "    .dataframe tbody tr th {\n",
       "        vertical-align: top;\n",
       "    }\n",
       "\n",
       "    .dataframe thead th {\n",
       "        text-align: right;\n",
       "    }\n",
       "</style>\n",
       "<table border=\"1\" class=\"dataframe\">\n",
       "  <thead>\n",
       "    <tr style=\"text-align: right;\">\n",
       "      <th></th>\n",
       "      <th>default</th>\n",
       "      <th>installment</th>\n",
       "      <th>log_income</th>\n",
       "      <th>fico_score</th>\n",
       "      <th>rev_balance</th>\n",
       "      <th>inquiries</th>\n",
       "      <th>records</th>\n",
       "    </tr>\n",
       "  </thead>\n",
       "  <tbody>\n",
       "    <tr>\n",
       "      <th>0</th>\n",
       "      <td>0</td>\n",
       "      <td>829</td>\n",
       "      <td>4.93</td>\n",
       "      <td>737</td>\n",
       "      <td>28.85</td>\n",
       "      <td>0</td>\n",
       "      <td>0</td>\n",
       "    </tr>\n",
       "    <tr>\n",
       "      <th>1</th>\n",
       "      <td>0</td>\n",
       "      <td>228</td>\n",
       "      <td>4.81</td>\n",
       "      <td>707</td>\n",
       "      <td>33.62</td>\n",
       "      <td>0</td>\n",
       "      <td>0</td>\n",
       "    </tr>\n",
       "    <tr>\n",
       "      <th>2</th>\n",
       "      <td>0</td>\n",
       "      <td>367</td>\n",
       "      <td>4.51</td>\n",
       "      <td>682</td>\n",
       "      <td>3.51</td>\n",
       "      <td>1</td>\n",
       "      <td>0</td>\n",
       "    </tr>\n",
       "    <tr>\n",
       "      <th>3</th>\n",
       "      <td>0</td>\n",
       "      <td>162</td>\n",
       "      <td>4.93</td>\n",
       "      <td>712</td>\n",
       "      <td>33.67</td>\n",
       "      <td>1</td>\n",
       "      <td>0</td>\n",
       "    </tr>\n",
       "    <tr>\n",
       "      <th>4</th>\n",
       "      <td>0</td>\n",
       "      <td>103</td>\n",
       "      <td>4.91</td>\n",
       "      <td>667</td>\n",
       "      <td>4.74</td>\n",
       "      <td>0</td>\n",
       "      <td>0</td>\n",
       "    </tr>\n",
       "  </tbody>\n",
       "</table>\n",
       "</div>"
      ],
      "text/plain": [
       "   default  installment  log_income  fico_score  rev_balance  inquiries  \\\n",
       "0        0          829        4.93         737        28.85          0   \n",
       "1        0          228        4.81         707        33.62          0   \n",
       "2        0          367        4.51         682         3.51          1   \n",
       "3        0          162        4.93         712        33.67          1   \n",
       "4        0          103        4.91         667         4.74          0   \n",
       "\n",
       "   records  \n",
       "0        0  \n",
       "1        0  \n",
       "2        0  \n",
       "3        0  \n",
       "4        0  "
      ]
     },
     "execution_count": 57,
     "metadata": {},
     "output_type": "execute_result"
    }
   ],
   "source": [
    "df.head()"
   ]
  },
  {
   "cell_type": "code",
   "execution_count": 58,
   "metadata": {},
   "outputs": [
    {
     "name": "stdout",
     "output_type": "stream",
     "text": [
      "<class 'pandas.core.frame.DataFrame'>\n",
      "RangeIndex: 9516 entries, 0 to 9515\n",
      "Data columns (total 7 columns):\n",
      " #   Column       Non-Null Count  Dtype  \n",
      "---  ------       --------------  -----  \n",
      " 0   default      9516 non-null   int64  \n",
      " 1   installment  9516 non-null   int64  \n",
      " 2   log_income   9516 non-null   float64\n",
      " 3   fico_score   9516 non-null   int64  \n",
      " 4   rev_balance  9516 non-null   float64\n",
      " 5   inquiries    9516 non-null   int64  \n",
      " 6   records      9516 non-null   int64  \n",
      "dtypes: float64(2), int64(5)\n",
      "memory usage: 520.5 KB\n"
     ]
    }
   ],
   "source": [
    "df.info()"
   ]
  },
  {
   "cell_type": "code",
   "execution_count": 59,
   "metadata": {},
   "outputs": [
    {
     "name": "stdout",
     "output_type": "stream",
     "text": [
      "default\n",
      "0    0.840164\n",
      "1    0.159836\n",
      "Name: proportion, dtype: float64\n"
     ]
    },
    {
     "data": {
      "text/plain": [
       "<Axes: xlabel='default'>"
      ]
     },
     "execution_count": 59,
     "metadata": {},
     "output_type": "execute_result"
    },
    {
     "data": {
      "image/png": "[encoded data removed]",
      "text/plain": [
       "<Figure size 640x480 with 1 Axes>"
      ]
     },
     "metadata": {},
     "output_type": "display_data"
    }
   ],
   "source": [
    "defaults = df.default.value_counts(normalize=True)\n",
    "print(defaults)\n",
    "defaults.plot(kind='bar')"
   ]
  },
  {
   "cell_type": "code",
   "execution_count": 60,
   "metadata": {},
   "outputs": [],
   "source": [
    "X = df.drop(['default'], axis=1)\n",
    "y = df['default']"
   ]
  },
  {
   "cell_type": "code",
   "execution_count": 61,
   "metadata": {},
   "outputs": [
    {
     "name": "stdout",
     "output_type": "stream",
     "text": [
      "(6661, 6) (2855, 6)\n"
     ]
    }
   ],
   "source": [
    "X_train, X_test, y_train, y_test = train_test_split(X, y, test_size=0.3, random_state=7)\n",
    "eval_set = [(X_test, y_test)]\n",
    "\n",
    "print(X_train.shape, X_test.shape)"
   ]
  },
  {
   "cell_type": "code",
   "execution_count": 62,
   "metadata": {},
   "outputs": [
    {
     "name": "stdout",
     "output_type": "stream",
     "text": [
      "XGBoost version: 1.7.6\n"
     ]
    }
   ],
   "source": [
    "import xgboost\n",
    "print(\"XGBoost version:\", xgboost.__version__)"
   ]
  },
  {
   "cell_type": "code",
   "execution_count": null,
   "metadata": {},
   "outputs": [],
   "source": []
  }
 ],
 "metadata": {
  "kernelspec": {
   "display_name": "MITxPRO",
   "language": "python",
   "name": "python3"
  },
  "language_info": {
   "codemirror_mode": {
    "name": "ipython",
    "version": 3
   },
   "file_extension": ".py",
   "mimetype": "text/x-python",
   "name": "python",
   "nbconvert_exporter": "python",
   "pygments_lexer": "ipython3",
   "version": "3.12.9"
  }
 },
 "nbformat": 4,
 "nbformat_minor": 2
}
