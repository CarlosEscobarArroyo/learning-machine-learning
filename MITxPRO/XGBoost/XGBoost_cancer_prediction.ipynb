{
 "cells": [
  {
   "cell_type": "code",
   "execution_count": 2,
   "metadata": {},
   "outputs": [],
   "source": [
    "import numpy as np\n",
    "import pandas as pd\n",
    "import matplotlib.pyplot as plt\n",
    "\n",
    "from datetime import datetime\n",
    "import xgboost\n",
    "from sklearn.metrics import accuracy_score, confusion_matrix\n",
    "from sklearn.metrics import auc\n",
    "from sklearn.metrics import roc_auc_score\n",
    "from sklearn.model_selection import train_test_split\n",
    "from sklearn.metrics import mean_squared_error, r2_score\n",
    "import warnings "
   ]
  },
  {
   "cell_type": "code",
   "execution_count": 3,
   "metadata": {},
   "outputs": [],
   "source": [
    "df = pd.read_csv('cancer.csv')"
   ]
  },
  {
   "cell_type": "code",
   "execution_count": 4,
   "metadata": {},
   "outputs": [
    {
     "data": {
      "application/vnd.microsoft.datawrangler.viewer.v0+json": {
       "columns": [
        {
         "name": "index",
         "rawType": "int64",
         "type": "integer"
        },
        {
         "name": "id",
         "rawType": "int64",
         "type": "integer"
        },
        {
         "name": "diagnosis",
         "rawType": "object",
         "type": "string"
        },
        {
         "name": "radius_mean",
         "rawType": "float64",
         "type": "float"
        },
        {
         "name": "texture_mean",
         "rawType": "float64",
         "type": "float"
        },
        {
         "name": "perimeter_mean",
         "rawType": "float64",
         "type": "float"
        },
        {
         "name": "area_mean",
         "rawType": "float64",
         "type": "float"
        },
        {
         "name": "smoothness_mean",
         "rawType": "float64",
         "type": "float"
        },
        {
         "name": "compactness_mean",
         "rawType": "float64",
         "type": "float"
        },
        {
         "name": "concavity_mean",
         "rawType": "float64",
         "type": "float"
        },
        {
         "name": "concave points_mean",
         "rawType": "float64",
         "type": "float"
        },
        {
         "name": "symmetry_mean",
         "rawType": "float64",
         "type": "float"
        },
        {
         "name": "fractal_dimension_mean",
         "rawType": "float64",
         "type": "float"
        },
        {
         "name": "radius_se",
         "rawType": "float64",
         "type": "float"
        },
        {
         "name": "texture_se",
         "rawType": "float64",
         "type": "float"
        },
        {
         "name": "perimeter_se",
         "rawType": "float64",
         "type": "float"
        },
        {
         "name": "area_se",
         "rawType": "float64",
         "type": "float"
        },
        {
         "name": "smoothness_se",
         "rawType": "float64",
         "type": "float"
        },
        {
         "name": "compactness_se",
         "rawType": "float64",
         "type": "float"
        },
        {
         "name": "concavity_se",
         "rawType": "float64",
         "type": "float"
        },
        {
         "name": "concave points_se",
         "rawType": "float64",
         "type": "float"
        },
        {
         "name": "symmetry_se",
         "rawType": "float64",
         "type": "float"
        },
        {
         "name": "fractal_dimension_se",
         "rawType": "float64",
         "type": "float"
        },
        {
         "name": "radius_worst",
         "rawType": "float64",
         "type": "float"
        },
        {
         "name": "texture_worst",
         "rawType": "float64",
         "type": "float"
        },
        {
         "name": "perimeter_worst",
         "rawType": "float64",
         "type": "float"
        },
        {
         "name": "area_worst",
         "rawType": "float64",
         "type": "float"
        },
        {
         "name": "smoothness_worst",
         "rawType": "float64",
         "type": "float"
        },
        {
         "name": "compactness_worst",
         "rawType": "float64",
         "type": "float"
        },
        {
         "name": "concavity_worst",
         "rawType": "float64",
         "type": "float"
        },
        {
         "name": "concave points_worst",
         "rawType": "float64",
         "type": "float"
        },
        {
         "name": "symmetry_worst",
         "rawType": "float64",
         "type": "float"
        },
        {
         "name": "fractal_dimension_worst",
         "rawType": "float64",
         "type": "float"
        }
       ],
       "conversionMethod": "pd.DataFrame",
       "ref": "219a9ed8-0419-4e90-81e2-da3a499a2ed5",
       "rows": [
        [
         "564",
         "926424",
         "M",
         "21.56",
         "22.39",
         "142.0",
         "1479.0",
         "0.111",
         "0.1159",
         "0.2439",
         "0.1389",
         "0.1726",
         "0.05623",
         "1.176",
         "1.256",
         "7.673",
         "158.7",
         "0.0103",
         "0.02891",
         "0.05198",
         "0.02454",
         "0.01114",
         "0.004239",
         "25.45",
         "26.4",
         "166.1",
         "2027.0",
         "0.141",
         "0.2113",
         "0.4107",
         "0.2216",
         "0.206",
         "0.07115"
        ],
        [
         "565",
         "926682",
         "M",
         "20.13",
         "28.25",
         "131.2",
         "1261.0",
         "0.0978",
         "0.1034",
         "0.144",
         "0.09791",
         "0.1752",
         "0.05533",
         "0.7655",
         "2.463",
         "5.203",
         "99.04",
         "0.005769",
         "0.02423",
         "0.0395",
         "0.01678",
         "0.01898",
         "0.002498",
         "23.69",
         "38.25",
         "155.0",
         "1731.0",
         "0.1166",
         "0.1922",
         "0.3215",
         "0.1628",
         "0.2572",
         "0.06637"
        ],
        [
         "566",
         "926954",
         "M",
         "16.6",
         "28.08",
         "108.3",
         "858.1",
         "0.08455",
         "0.1023",
         "0.09251",
         "0.05302",
         "0.159",
         "0.05648",
         "0.4564",
         "1.075",
         "3.425",
         "48.55",
         "0.005903",
         "0.03731",
         "0.0473",
         "0.01557",
         "0.01318",
         "0.003892",
         "18.98",
         "34.12",
         "126.7",
         "1124.0",
         "0.1139",
         "0.3094",
         "0.3403",
         "0.1418",
         "0.2218",
         "0.0782"
        ],
        [
         "567",
         "927241",
         "M",
         "20.6",
         "29.33",
         "140.1",
         "1265.0",
         "0.1178",
         "0.277",
         "0.3514",
         "0.152",
         "0.2397",
         "0.07016",
         "0.726",
         "1.595",
         "5.772",
         "86.22",
         "0.006522",
         "0.06158",
         "0.07117",
         "0.01664",
         "0.02324",
         "0.006185",
         "25.74",
         "39.42",
         "184.6",
         "1821.0",
         "0.165",
         "0.8681",
         "0.9387",
         "0.265",
         "0.4087",
         "0.124"
        ],
        [
         "568",
         "92751",
         "B",
         "7.76",
         "24.54",
         "47.92",
         "181.0",
         "0.05263",
         "0.04362",
         "0.0",
         "0.0",
         "0.1587",
         "0.05884",
         "0.3857",
         "1.428",
         "2.548",
         "19.15",
         "0.007189",
         "0.00466",
         "0.0",
         "0.0",
         "0.02676",
         "0.002783",
         "9.456",
         "30.37",
         "59.16",
         "268.6",
         "0.08996",
         "0.06444",
         "0.0",
         "0.0",
         "0.2871",
         "0.07039"
        ]
       ],
       "shape": {
        "columns": 32,
        "rows": 5
       }
      },
      "text/html": [
       "<div>\n",
       "<style scoped>\n",
       "    .dataframe tbody tr th:only-of-type {\n",
       "        vertical-align: middle;\n",
       "    }\n",
       "\n",
       "    .dataframe tbody tr th {\n",
       "        vertical-align: top;\n",
       "    }\n",
       "\n",
       "    .dataframe thead th {\n",
       "        text-align: right;\n",
       "    }\n",
       "</style>\n",
       "<table border=\"1\" class=\"dataframe\">\n",
       "  <thead>\n",
       "    <tr style=\"text-align: right;\">\n",
       "      <th></th>\n",
       "      <th>id</th>\n",
       "      <th>diagnosis</th>\n",
       "      <th>radius_mean</th>\n",
       "      <th>texture_mean</th>\n",
       "      <th>perimeter_mean</th>\n",
       "      <th>area_mean</th>\n",
       "      <th>smoothness_mean</th>\n",
       "      <th>compactness_mean</th>\n",
       "      <th>concavity_mean</th>\n",
       "      <th>concave points_mean</th>\n",
       "      <th>...</th>\n",
       "      <th>radius_worst</th>\n",
       "      <th>texture_worst</th>\n",
       "      <th>perimeter_worst</th>\n",
       "      <th>area_worst</th>\n",
       "      <th>smoothness_worst</th>\n",
       "      <th>compactness_worst</th>\n",
       "      <th>concavity_worst</th>\n",
       "      <th>concave points_worst</th>\n",
       "      <th>symmetry_worst</th>\n",
       "      <th>fractal_dimension_worst</th>\n",
       "    </tr>\n",
       "  </thead>\n",
       "  <tbody>\n",
       "    <tr>\n",
       "      <th>564</th>\n",
       "      <td>926424</td>\n",
       "      <td>M</td>\n",
       "      <td>21.56</td>\n",
       "      <td>22.39</td>\n",
       "      <td>142.00</td>\n",
       "      <td>1479.0</td>\n",
       "      <td>0.11100</td>\n",
       "      <td>0.11590</td>\n",
       "      <td>0.24390</td>\n",
       "      <td>0.13890</td>\n",
       "      <td>...</td>\n",
       "      <td>25.450</td>\n",
       "      <td>26.40</td>\n",
       "      <td>166.10</td>\n",
       "      <td>2027.0</td>\n",
       "      <td>0.14100</td>\n",
       "      <td>0.21130</td>\n",
       "      <td>0.4107</td>\n",
       "      <td>0.2216</td>\n",
       "      <td>0.2060</td>\n",
       "      <td>0.07115</td>\n",
       "    </tr>\n",
       "    <tr>\n",
       "      <th>565</th>\n",
       "      <td>926682</td>\n",
       "      <td>M</td>\n",
       "      <td>20.13</td>\n",
       "      <td>28.25</td>\n",
       "      <td>131.20</td>\n",
       "      <td>1261.0</td>\n",
       "      <td>0.09780</td>\n",
       "      <td>0.10340</td>\n",
       "      <td>0.14400</td>\n",
       "      <td>0.09791</td>\n",
       "      <td>...</td>\n",
       "      <td>23.690</td>\n",
       "      <td>38.25</td>\n",
       "      <td>155.00</td>\n",
       "      <td>1731.0</td>\n",
       "      <td>0.11660</td>\n",
       "      <td>0.19220</td>\n",
       "      <td>0.3215</td>\n",
       "      <td>0.1628</td>\n",
       "      <td>0.2572</td>\n",
       "      <td>0.06637</td>\n",
       "    </tr>\n",
       "    <tr>\n",
       "      <th>566</th>\n",
       "      <td>926954</td>\n",
       "      <td>M</td>\n",
       "      <td>16.60</td>\n",
       "      <td>28.08</td>\n",
       "      <td>108.30</td>\n",
       "      <td>858.1</td>\n",
       "      <td>0.08455</td>\n",
       "      <td>0.10230</td>\n",
       "      <td>0.09251</td>\n",
       "      <td>0.05302</td>\n",
       "      <td>...</td>\n",
       "      <td>18.980</td>\n",
       "      <td>34.12</td>\n",
       "      <td>126.70</td>\n",
       "      <td>1124.0</td>\n",
       "      <td>0.11390</td>\n",
       "      <td>0.30940</td>\n",
       "      <td>0.3403</td>\n",
       "      <td>0.1418</td>\n",
       "      <td>0.2218</td>\n",
       "      <td>0.07820</td>\n",
       "    </tr>\n",
       "    <tr>\n",
       "      <th>567</th>\n",
       "      <td>927241</td>\n",
       "      <td>M</td>\n",
       "      <td>20.60</td>\n",
       "      <td>29.33</td>\n",
       "      <td>140.10</td>\n",
       "      <td>1265.0</td>\n",
       "      <td>0.11780</td>\n",
       "      <td>0.27700</td>\n",
       "      <td>0.35140</td>\n",
       "      <td>0.15200</td>\n",
       "      <td>...</td>\n",
       "      <td>25.740</td>\n",
       "      <td>39.42</td>\n",
       "      <td>184.60</td>\n",
       "      <td>1821.0</td>\n",
       "      <td>0.16500</td>\n",
       "      <td>0.86810</td>\n",
       "      <td>0.9387</td>\n",
       "      <td>0.2650</td>\n",
       "      <td>0.4087</td>\n",
       "      <td>0.12400</td>\n",
       "    </tr>\n",
       "    <tr>\n",
       "      <th>568</th>\n",
       "      <td>92751</td>\n",
       "      <td>B</td>\n",
       "      <td>7.76</td>\n",
       "      <td>24.54</td>\n",
       "      <td>47.92</td>\n",
       "      <td>181.0</td>\n",
       "      <td>0.05263</td>\n",
       "      <td>0.04362</td>\n",
       "      <td>0.00000</td>\n",
       "      <td>0.00000</td>\n",
       "      <td>...</td>\n",
       "      <td>9.456</td>\n",
       "      <td>30.37</td>\n",
       "      <td>59.16</td>\n",
       "      <td>268.6</td>\n",
       "      <td>0.08996</td>\n",
       "      <td>0.06444</td>\n",
       "      <td>0.0000</td>\n",
       "      <td>0.0000</td>\n",
       "      <td>0.2871</td>\n",
       "      <td>0.07039</td>\n",
       "    </tr>\n",
       "  </tbody>\n",
       "</table>\n",
       "<p>5 rows × 32 columns</p>\n",
       "</div>"
      ],
      "text/plain": [
       "         id diagnosis  radius_mean  texture_mean  perimeter_mean  area_mean  \\\n",
       "564  926424         M        21.56         22.39          142.00     1479.0   \n",
       "565  926682         M        20.13         28.25          131.20     1261.0   \n",
       "566  926954         M        16.60         28.08          108.30      858.1   \n",
       "567  927241         M        20.60         29.33          140.10     1265.0   \n",
       "568   92751         B         7.76         24.54           47.92      181.0   \n",
       "\n",
       "     smoothness_mean  compactness_mean  concavity_mean  concave points_mean  \\\n",
       "564          0.11100           0.11590         0.24390              0.13890   \n",
       "565          0.09780           0.10340         0.14400              0.09791   \n",
       "566          0.08455           0.10230         0.09251              0.05302   \n",
       "567          0.11780           0.27700         0.35140              0.15200   \n",
       "568          0.05263           0.04362         0.00000              0.00000   \n",
       "\n",
       "     ...  radius_worst  texture_worst  perimeter_worst  area_worst  \\\n",
       "564  ...        25.450          26.40           166.10      2027.0   \n",
       "565  ...        23.690          38.25           155.00      1731.0   \n",
       "566  ...        18.980          34.12           126.70      1124.0   \n",
       "567  ...        25.740          39.42           184.60      1821.0   \n",
       "568  ...         9.456          30.37            59.16       268.6   \n",
       "\n",
       "     smoothness_worst  compactness_worst  concavity_worst  \\\n",
       "564           0.14100            0.21130           0.4107   \n",
       "565           0.11660            0.19220           0.3215   \n",
       "566           0.11390            0.30940           0.3403   \n",
       "567           0.16500            0.86810           0.9387   \n",
       "568           0.08996            0.06444           0.0000   \n",
       "\n",
       "     concave points_worst  symmetry_worst  fractal_dimension_worst  \n",
       "564                0.2216          0.2060                  0.07115  \n",
       "565                0.1628          0.2572                  0.06637  \n",
       "566                0.1418          0.2218                  0.07820  \n",
       "567                0.2650          0.4087                  0.12400  \n",
       "568                0.0000          0.2871                  0.07039  \n",
       "\n",
       "[5 rows x 32 columns]"
      ]
     },
     "execution_count": 4,
     "metadata": {},
     "output_type": "execute_result"
    }
   ],
   "source": [
    "df.tail()"
   ]
  },
  {
   "cell_type": "code",
   "execution_count": 5,
   "metadata": {},
   "outputs": [
    {
     "name": "stdout",
     "output_type": "stream",
     "text": [
      "<class 'pandas.core.frame.DataFrame'>\n",
      "RangeIndex: 569 entries, 0 to 568\n",
      "Data columns (total 32 columns):\n",
      " #   Column                   Non-Null Count  Dtype  \n",
      "---  ------                   --------------  -----  \n",
      " 0   id                       569 non-null    int64  \n",
      " 1   diagnosis                569 non-null    object \n",
      " 2   radius_mean              569 non-null    float64\n",
      " 3   texture_mean             569 non-null    float64\n",
      " 4   perimeter_mean           569 non-null    float64\n",
      " 5   area_mean                569 non-null    float64\n",
      " 6   smoothness_mean          569 non-null    float64\n",
      " 7   compactness_mean         569 non-null    float64\n",
      " 8   concavity_mean           569 non-null    float64\n",
      " 9   concave points_mean      569 non-null    float64\n",
      " 10  symmetry_mean            569 non-null    float64\n",
      " 11  fractal_dimension_mean   569 non-null    float64\n",
      " 12  radius_se                569 non-null    float64\n",
      " 13  texture_se               569 non-null    float64\n",
      " 14  perimeter_se             569 non-null    float64\n",
      " 15  area_se                  569 non-null    float64\n",
      " 16  smoothness_se            569 non-null    float64\n",
      " 17  compactness_se           569 non-null    float64\n",
      " 18  concavity_se             569 non-null    float64\n",
      " 19  concave points_se        569 non-null    float64\n",
      " 20  symmetry_se              569 non-null    float64\n",
      " 21  fractal_dimension_se     569 non-null    float64\n",
      " 22  radius_worst             569 non-null    float64\n",
      " 23  texture_worst            569 non-null    float64\n",
      " 24  perimeter_worst          569 non-null    float64\n",
      " 25  area_worst               569 non-null    float64\n",
      " 26  smoothness_worst         569 non-null    float64\n",
      " 27  compactness_worst        569 non-null    float64\n",
      " 28  concavity_worst          569 non-null    float64\n",
      " 29  concave points_worst     569 non-null    float64\n",
      " 30  symmetry_worst           569 non-null    float64\n",
      " 31  fractal_dimension_worst  569 non-null    float64\n",
      "dtypes: float64(30), int64(1), object(1)\n",
      "memory usage: 142.4+ KB\n"
     ]
    }
   ],
   "source": [
    "df.info()"
   ]
  },
  {
   "cell_type": "code",
   "execution_count": 6,
   "metadata": {},
   "outputs": [
    {
     "name": "stdout",
     "output_type": "stream",
     "text": [
      "diagnosis\n",
      "B    0.627417\n",
      "M    0.372583\n",
      "Name: proportion, dtype: float64\n"
     ]
    }
   ],
   "source": [
    "diagnosis =  df.diagnosis.value_counts(normalize=True)\n",
    "print(diagnosis)"
   ]
  },
  {
   "cell_type": "code",
   "execution_count": 7,
   "metadata": {},
   "outputs": [],
   "source": [
    "df.drop(\"id\",axis=1,inplace=True)"
   ]
  },
  {
   "cell_type": "code",
   "execution_count": 8,
   "metadata": {},
   "outputs": [],
   "source": [
    "X = df.drop(['diagnosis'], axis=1)\n",
    "y = df['diagnosis']"
   ]
  },
  {
   "cell_type": "code",
   "execution_count": 9,
   "metadata": {},
   "outputs": [],
   "source": [
    "from sklearn.preprocessing import LabelEncoder\n",
    "label_encoder = LabelEncoder()\n",
    "label_enconder = label_encoder.fit(y)\n",
    "y = label_enconder.transform(y)"
   ]
  },
  {
   "cell_type": "code",
   "execution_count": 10,
   "metadata": {},
   "outputs": [
    {
     "name": "stdout",
     "output_type": "stream",
     "text": [
      "(398, 30) (171, 30)\n"
     ]
    }
   ],
   "source": [
    "X_train, X_test, y_train, y_test = train_test_split(X, y, test_size=0.3, random_state=7)\n",
    "eval_set=[(X_test, y_test)]\n",
    "print(X_train.shape, X_test.shape)"
   ]
  },
  {
   "cell_type": "code",
   "execution_count": null,
   "metadata": {},
   "outputs": [
    {
     "name": "stdout",
     "output_type": "stream",
     "text": [
      "XGBoost version: 1.7.6\n"
     ]
    }
   ],
   "source": [
    "import xgboost\n",
    "print(\"XGBoost version:\", xgboost.__version__)"
   ]
  },
  {
   "cell_type": "code",
   "execution_count": 12,
   "metadata": {},
   "outputs": [
    {
     "name": "stdout",
     "output_type": "stream",
     "text": [
      "/opt/anaconda3/envs/MITxPRO/bin/python\n"
     ]
    }
   ],
   "source": [
    "import sys\n",
    "print(sys.executable)"
   ]
  },
  {
   "cell_type": "code",
   "execution_count": 13,
   "metadata": {},
   "outputs": [
    {
     "name": "stdout",
     "output_type": "stream",
     "text": [
      "Initializing xgboost.sklearn.XGBClassifier and starting training...\n",
      "0:00:00.065294\n",
      "Accuracy: 95.3216374269%\n",
      "ROC-AUC: 94.1614420063%\n"
     ]
    },
    {
     "name": "stderr",
     "output_type": "stream",
     "text": [
      "/opt/anaconda3/envs/MITxPRO/lib/python3.12/site-packages/xgboost/sklearn.py:835: UserWarning: `eval_metric` in `fit` method is deprecated for better compatibility with scikit-learn, use `eval_metric` in constructor or`set_params` instead.\n",
      "  warnings.warn(\n",
      "/opt/anaconda3/envs/MITxPRO/lib/python3.12/site-packages/xgboost/sklearn.py:835: UserWarning: `early_stopping_rounds` in `fit` method is deprecated for better compatibility with scikit-learn, use `early_stopping_rounds` in constructor or`set_params` instead.\n",
      "  warnings.warn(\n"
     ]
    }
   ],
   "source": [
    "from xgboost import XGBClassifier\n",
    "\n",
    "print('Initializing xgboost.sklearn.XGBClassifier and starting training...')\n",
    "\n",
    "#set \"st\" to the current datetime\n",
    "### BEGIN SOLUTION\n",
    "st = datetime.now()\n",
    "### END SOLUTION\n",
    "\n",
    "# Use xgboost.sklearn.XGBClassifier to create a model called \"clf\" with the following parameters:\n",
    "#     objective: \"binary:logistic\"\n",
    "#     learning_rate: 0.05\n",
    "#     seed: 9616\n",
    "#     max_depth: 20\n",
    "#     gamma: 10\n",
    "#     n_estimators: 500\n",
    "### BEGIN SOLUTION\n",
    "clf = XGBClassifier(\n",
    "    objective=\"binary:logistic\",\n",
    "    learning_rate=0.05,\n",
    "    seed=9616,\n",
    "    max_depth=20,\n",
    "    gamma=10,\n",
    "    n_estimators=500)\n",
    "### END SOLUTION\n",
    "\n",
    "# Fit the model with training data. Also use the following parameters:\n",
    "#     early_stopping_rounds: 20\n",
    "#     eval_metric: \"auc\"\n",
    "#     eval_set: eval_set\n",
    "#     verbose: False\n",
    "### BEGIN SOLUTION\n",
    "clf.fit(X_train, y_train, early_stopping_rounds=20, eval_metric=\"auc\", eval_set=eval_set, verbose=False)\n",
    "### END SOLUTION\n",
    "\n",
    "\n",
    "print(datetime.now()-st)\n",
    "\n",
    "# set \"y_pred\" to the clf predictions on the test dataset.\n",
    "### BEGIN SOLUTION\n",
    "y_pred = clf.predict(X_test)\n",
    "### END SOLUTION\n",
    "\n",
    "# Get the accuracy score of the model set the output to \"accuracy\".\n",
    "### BEGIN SOLUTION\n",
    "accuracy = accuracy_score(np.array(y_test).flatten(), y_pred)\n",
    "### END SOLUTION\n",
    "\n",
    "print(\"Accuracy: %.10f%%\" % (accuracy * 100.0))\n",
    "\n",
    "# Get the ROC-AUC score for the model.\n",
    "### BEGIN SOLUTION\n",
    "accuracy_per_roc_auc = roc_auc_score(np.array(y_test).flatten(), y_pred)\n",
    "### END SOLUTION\n",
    "\n",
    "print(\"ROC-AUC: %.10f%%\" % (accuracy_per_roc_auc * 100))\n"
   ]
  },
  {
   "cell_type": "code",
   "execution_count": 15,
   "metadata": {},
   "outputs": [
    {
     "data": {
      "text/plain": [
       "<Axes: title={'center': 'Feature importance'}, xlabel='F score', ylabel='Features'>"
      ]
     },
     "execution_count": 15,
     "metadata": {},
     "output_type": "execute_result"
    },
    {
     "data": {
      "image/png": "[encoded data removed]",
      "text/plain": [
       "<Figure size 640x480 with 1 Axes>"
      ]
     },
     "metadata": {},
     "output_type": "display_data"
    }
   ],
   "source": [
    "xgboost.plot_importance(clf)"
   ]
  }
 ],
 "metadata": {
  "kernelspec": {
   "display_name": "MITxPRO",
   "language": "python",
   "name": "python3"
  },
  "language_info": {
   "codemirror_mode": {
    "name": "ipython",
    "version": 3
   },
   "file_extension": ".py",
   "mimetype": "text/x-python",
   "name": "python",
   "nbconvert_exporter": "python",
   "pygments_lexer": "ipython3",
   "version": "3.12.9"
  }
 },
 "nbformat": 4,
 "nbformat_minor": 2
}
